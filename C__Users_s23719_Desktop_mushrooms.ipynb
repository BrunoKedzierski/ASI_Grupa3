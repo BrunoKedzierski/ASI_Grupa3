{
 "cells": [
  {
   "cell_type": "code",
   "execution_count": 1,
   "id": "38c7987d",
   "metadata": {},
   "outputs": [],
   "source": [
    "## Mushrooms dataset"
   ]
  },
  {
   "cell_type": "code",
   "execution_count": 2,
   "id": "95de8fd7",
   "metadata": {},
   "outputs": [],
   "source": [
    "!conda activate myenv"
   ]
  },
  {
   "cell_type": "code",
   "execution_count": null,
   "id": "c2372a7f",
   "metadata": {},
   "outputs": [],
   "source": []
  }
 ],
 "metadata": {
  "kernelspec": {
   "display_name": "Python 3 (ipykernel)",
   "language": "python",
   "name": "python3"
  },
  "language_info": {
   "codemirror_mode": {
    "name": "ipython",
    "version": 3
   },
   "file_extension": ".py",
   "mimetype": "text/x-python",
   "name": "python",
   "nbconvert_exporter": "python",
   "pygments_lexer": "ipython3",
   "version": "3.10.9"
  }
 },
 "nbformat": 4,
 "nbformat_minor": 5
}
